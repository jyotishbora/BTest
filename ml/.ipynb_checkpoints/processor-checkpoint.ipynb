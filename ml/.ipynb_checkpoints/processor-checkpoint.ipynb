{
 "cells": [
  {
   "cell_type": "code",
   "execution_count": 92,
   "id": "f031880f-e2c3-4daa-894b-15ed2aa2e816",
   "metadata": {},
   "outputs": [],
   "source": [
    "from tensorflow.python.client import device_lib\n",
    "from keras.preprocessing.text import Tokenizer\n",
    "from keras.utils import pad_sequences\n",
    "from keras.models import Sequential\n",
    "from keras.layers import Dense, GRU, Input, TimeDistributed, Dropout\n",
    "from keras.optimizers import Adam\n",
    "from keras.losses import sparse_categorical_crossentropy"
   ]
  },
  {
   "cell_type": "code",
   "execution_count": 6,
   "id": "b26ef75d-a5b7-4092-a22a-a76e1653cf69",
   "metadata": {},
   "outputs": [
    {
     "name": "stdout",
     "output_type": "stream",
     "text": [
      "[name: \"/device:CPU:0\"\n",
      "device_type: \"CPU\"\n",
      "memory_limit: 268435456\n",
      "locality {\n",
      "}\n",
      "incarnation: 1049909493740792933\n",
      "xla_global_id: -1\n",
      "]\n"
     ]
    }
   ],
   "source": [
    "print(device_lib.list_local_devices())"
   ]
  },
  {
   "cell_type": "code",
   "execution_count": 86,
   "id": "463e035b-a3d9-4a3e-8540-b43d0ca6c915",
   "metadata": {},
   "outputs": [],
   "source": [
    "bas_input = open(\"./data/input_bas.txt\", 'r').readlines()\n",
    "py_input = open(\"./data/input_py.txt\", 'r').readlines()"
   ]
  },
  {
   "cell_type": "code",
   "execution_count": 87,
   "id": "ce6c722a-5dac-4b70-9840-9a70c2896dec",
   "metadata": {},
   "outputs": [],
   "source": [
    "tokenizer_bas = Tokenizer(filters=[])\n",
    "tokenizer_bas.fit_on_texts(bas_input)\n",
    "seq_bas = tokenizer_bas.texts_to_sequences(bas_input)\n",
    "seq_bas = pad_sequences(seq_bas, padding='post')\n",
    "\n",
    "tokenizer_py = Tokenizer(filters=[])\n",
    "tokenizer_py.fit_on_texts(py_input)\n",
    "seq_py = tokenizer_py.texts_to_sequences(py_input)\n",
    "seq_py = pad_sequences(seq_py, padding='post')"
   ]
  },
  {
   "cell_type": "code",
   "execution_count": 88,
   "id": "d903a825-3456-4124-a7e1-9d3e10f3cac6",
   "metadata": {},
   "outputs": [],
   "source": [
    "tmp_seq_bas = pad_sequences(seq_bas, maxlen=seq_py.shape[1], padding='post')\n",
    "tmp_seq_bas = tmp_seq_bas.reshape((-1, seq_py.shape[-2], 1))"
   ]
  },
  {
   "cell_type": "code",
   "execution_count": 93,
   "id": "f852edd4-56cd-4659-83cc-85532a55aecf",
   "metadata": {},
   "outputs": [],
   "source": [
    " model1 = Sequential()\n",
    "model1.add(GRU(256, input_shape=tmp_seq_bas.shape[1:], return_sequences=True))\n",
    "model1.add(TimeDistributed(Dense(1024, activation='relu')))\n",
    "model1.add(Dropout(0.5))\n",
    "model1.add(TimeDistributed(Dense(len(tokenizer_py.word_index), activation='softmax'))) \n",
    "\n",
    "model1.compile(loss=sparse_categorical_crossentropy, optimizer=Adam(0.05), metrics=['accuracy'])"
   ]
  },
  {
   "cell_type": "code",
   "execution_count": null,
   "id": "2906c59c-76c5-48f3-976b-02c3ff607c67",
   "metadata": {},
   "outputs": [],
   "source": []
  }
 ],
 "metadata": {
  "kernelspec": {
   "display_name": "Python 3 (ipykernel)",
   "language": "python",
   "name": "python3"
  },
  "language_info": {
   "codemirror_mode": {
    "name": "ipython",
    "version": 3
   },
   "file_extension": ".py",
   "mimetype": "text/x-python",
   "name": "python",
   "nbconvert_exporter": "python",
   "pygments_lexer": "ipython3",
   "version": "3.8.2"
  }
 },
 "nbformat": 4,
 "nbformat_minor": 5
}

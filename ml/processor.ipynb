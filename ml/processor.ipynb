{
 "cells": [
  {
   "cell_type": "markdown",
   "id": "eb80f106-0db5-4dfd-9d3b-72cd73115a6a",
   "metadata": {},
   "source": [
    "If you run transformers, there is one regex that seems to pick up an extra line with some comment that has 'def' in it - fix it or just use the files in the data folder that are manually patched to remove that extra line"
   ]
  },
  {
   "cell_type": "code",
   "execution_count": 1,
   "id": "f031880f-e2c3-4daa-894b-15ed2aa2e816",
   "metadata": {},
   "outputs": [],
   "source": [
    "from tensorflow.python.client import device_lib\n",
    "from keras.preprocessing.text import Tokenizer\n",
    "from keras.utils import pad_sequences\n",
    "from keras.models import Sequential\n",
    "from keras.layers import Dense, GRU, Input, TimeDistributed, Dropout\n",
    "from keras.optimizers import Adam\n",
    "from keras.losses import sparse_categorical_crossentropy"
   ]
  },
  {
   "cell_type": "code",
   "execution_count": 2,
   "id": "b26ef75d-a5b7-4092-a22a-a76e1653cf69",
   "metadata": {},
   "outputs": [
    {
     "name": "stdout",
     "output_type": "stream",
     "text": [
      "[name: \"/device:CPU:0\"\n",
      "device_type: \"CPU\"\n",
      "memory_limit: 268435456\n",
      "locality {\n",
      "}\n",
      "incarnation: 13188000061781736241\n",
      "xla_global_id: -1\n",
      "]\n"
     ]
    },
    {
     "name": "stderr",
     "output_type": "stream",
     "text": [
      "2022-07-29 23:55:04.186593: I tensorflow/core/platform/cpu_feature_guard.cc:193] This TensorFlow binary is optimized with oneAPI Deep Neural Network Library (oneDNN) to use the following CPU instructions in performance-critical operations:  AVX2 FMA\n",
      "To enable them in other operations, rebuild TensorFlow with the appropriate compiler flags.\n"
     ]
    }
   ],
   "source": [
    "print(device_lib.list_local_devices())"
   ]
  },
  {
   "cell_type": "code",
   "execution_count": 4,
   "id": "463e035b-a3d9-4a3e-8540-b43d0ca6c915",
   "metadata": {},
   "outputs": [],
   "source": [
    "bas_input = open(\"./data/input_bas.txt\", 'r').readlines()\n",
    "py_input = open(\"./data/input_py.txt\", 'r').readlines()"
   ]
  },
  {
   "cell_type": "code",
   "execution_count": 5,
   "id": "674949ce-36a6-4e0e-9f7a-197699477660",
   "metadata": {},
   "outputs": [
    {
     "data": {
      "text/plain": [
       "True"
      ]
     },
     "execution_count": 5,
     "metadata": {},
     "output_type": "execute_result"
    }
   ],
   "source": [
    "len(bas_input) == len(py_input)"
   ]
  },
  {
   "cell_type": "code",
   "execution_count": 6,
   "id": "ce6c722a-5dac-4b70-9840-9a70c2896dec",
   "metadata": {},
   "outputs": [],
   "source": [
    "    tokenizer_bas = Tokenizer(filters=[])\n",
    "    tokenizer_bas.fit_on_texts(bas_input)\n",
    "    seq_bas = tokenizer_bas.texts_to_sequences(bas_input)\n",
    "    seq_bas = pad_sequences(seq_bas, padding='post')\n",
    "\n",
    "    tokenizer_py = Tokenizer(filters=[])\n",
    "    tokenizer_py.fit_on_texts(py_input)\n",
    "    seq_py = tokenizer_py.texts_to_sequences(py_input)\n",
    "    seq_py = pad_sequences(seq_py, padding='post')\n",
    "\n",
    "    seq_py = seq_py.reshape(*seq_py.shape, 1)"
   ]
  },
  {
   "cell_type": "code",
   "execution_count": 7,
   "id": "d903a825-3456-4124-a7e1-9d3e10f3cac6",
   "metadata": {},
   "outputs": [],
   "source": [
    "tmp_seq_bas = pad_sequences(seq_bas, maxlen=seq_py.shape[1], padding='post')\n",
    "tmp_seq_bas = tmp_seq_bas.reshape((-1, seq_py.shape[-2], 1))"
   ]
  },
  {
   "cell_type": "code",
   "execution_count": null,
   "id": "7695c782-8a94-40e6-aa5a-afb2e4293b5f",
   "metadata": {},
   "outputs": [],
   "source": [
    "py_input"
   ]
  },
  {
   "cell_type": "code",
   "execution_count": 107,
   "id": "a4424681-14e9-4711-9094-f58df757c6a2",
   "metadata": {},
   "outputs": [
    {
     "data": {
      "text/plain": [
       "11911"
      ]
     },
     "execution_count": 107,
     "metadata": {},
     "output_type": "execute_result"
    }
   ],
   "source": [
    "m = 0\n",
    "for l in py_input:\n",
    "    if len(l) > m:\n",
    "        m = len(l)\n",
    "m"
   ]
  },
  {
   "cell_type": "code",
   "execution_count": 103,
   "id": "46999893-d5dd-4114-a918-d0811a5032d9",
   "metadata": {},
   "outputs": [
    {
     "data": {
      "text/plain": [
       "(3141, 1118)"
      ]
     },
     "execution_count": 103,
     "metadata": {},
     "output_type": "execute_result"
    }
   ],
   "source": [
    "seq_py.shape"
   ]
  },
  {
   "cell_type": "code",
   "execution_count": null,
   "id": "95aa6137-aac0-460a-b215-dab19a598522",
   "metadata": {},
   "outputs": [],
   "source": [
    "list(seq_bas[0])"
   ]
  },
  {
   "cell_type": "code",
   "execution_count": 8,
   "id": "f852edd4-56cd-4659-83cc-85532a55aecf",
   "metadata": {},
   "outputs": [],
   "source": [
    "model1 = Sequential()\n",
    "model1.add(GRU(64, input_shape=tmp_seq_bas.shape[1:], return_sequences=True)) #256\n",
    "model1.add(TimeDistributed(Dense(256, activation='relu')))#1024\n",
    "model1.add(Dropout(0.5))\n",
    "model1.add(TimeDistributed(Dense(len(tokenizer_py.word_index), activation='softmax'))) \n",
    "\n",
    "model1.compile(loss=sparse_categorical_crossentropy, optimizer=Adam(0.05), metrics=['accuracy'])"
   ]
  },
  {
   "cell_type": "code",
   "execution_count": null,
   "id": "2906c59c-76c5-48f3-976b-02c3ff607c67",
   "metadata": {},
   "outputs": [
    {
     "name": "stdout",
     "output_type": "stream",
     "text": [
      "Epoch 1/10\n"
     ]
    }
   ],
   "source": [
    "model1.fit(tmp_seq_bas, seq_py, batch_size=1024, epochs=10, validation_split=0.2)"
   ]
  },
  {
   "cell_type": "code",
   "execution_count": 1,
   "id": "f915b8cd-7646-4302-bd7f-7060a4c0e478",
   "metadata": {},
   "outputs": [],
   "source": [
    "import collections"
   ]
  },
  {
   "cell_type": "code",
   "execution_count": 10,
   "id": "b28fc424-cfe0-4cfb-9d6c-12bd38dda3f3",
   "metadata": {},
   "outputs": [
    {
     "data": {
      "text/plain": [
       "[5, 0]"
      ]
     },
     "execution_count": 10,
     "metadata": {},
     "output_type": "execute_result"
    }
   ],
   "source": [
    "x = [1,2,3,4,5,5,6,7,9,0,0,12,13,14]\n",
    "[q for q,k in collections.Counter(x).items() if k > 1]"
   ]
  },
  {
   "cell_type": "code",
   "execution_count": 7,
   "id": "1dbac057-4159-4605-af75-90f5092e0c13",
   "metadata": {},
   "outputs": [
    {
     "data": {
      "text/plain": [
       "dict_items([(1, 1), (2, 1), (3, 1), (4, 1), (5, 2), (6, 1), (7, 1), (9, 1), (0, 2), (12, 1), (13, 1), (14, 1)])"
      ]
     },
     "execution_count": 7,
     "metadata": {},
     "output_type": "execute_result"
    }
   ],
   "source": [
    "collections.Counter(x).items()"
   ]
  },
  {
   "cell_type": "code",
   "execution_count": null,
   "id": "9dcfec95-e8dc-4029-a87f-5e547e6489b2",
   "metadata": {},
   "outputs": [],
   "source": []
  }
 ],
 "metadata": {
  "kernelspec": {
   "display_name": "Python 3 (ipykernel)",
   "language": "python",
   "name": "python3"
  },
  "language_info": {
   "codemirror_mode": {
    "name": "ipython",
    "version": 3
   },
   "file_extension": ".py",
   "mimetype": "text/x-python",
   "name": "python",
   "nbconvert_exporter": "python",
   "pygments_lexer": "ipython3",
   "version": "3.8.2"
  }
 },
 "nbformat": 4,
 "nbformat_minor": 5
}
